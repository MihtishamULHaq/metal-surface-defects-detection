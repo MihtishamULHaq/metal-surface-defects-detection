{
 "cells": [
  {
   "cell_type": "code",
   "execution_count": null,
   "metadata": {
    "collapsed": true
   },
   "outputs": [],
   "source": [
    "import torch\n",
    "import warnings\n",
    "import segmentation_models_pytorch as smp\n",
    "\n",
    "from utils.trainer import Trainer\n",
    "\n",
    "warnings.filterwarnings(\"ignore\")\n",
    "CUDA_LAUNCH_BLOCKING = \"1\"\n",
    "device = torch.device('cuda' if torch.cuda.is_available() else 'cpu')\n",
    "torch.manual_seed(42)\n",
    "\n",
    "model = smp.Unet(\n",
    "    encoder_name='resnet34',\n",
    "    encoder_weights='imagenet',\n",
    "    in_channels=3,\n",
    "    classes=6,\n",
    "    activation=None,\n",
    ")\n",
    "# print(model)\n",
    "\n",
    "lr = 5e-04\n",
    "epochs = 5\n",
    "path = \"./weights/defect_segmentation.pth\"\n",
    "\n",
    "model_trainer = Trainer(model, lr, epochs, path)\n",
    "\n",
    "print(\"training started...tnm_01\")\n",
    "model_trainer.start()\n",
    "print(\"training finished\")"
   ]
  }
 ],
 "metadata": {
  "kernelspec": {
   "display_name": "Python 3",
   "language": "python",
   "name": "python3"
  },
  "language_info": {
   "codemirror_mode": {
    "name": "ipython",
    "version": 2
   },
   "file_extension": ".py",
   "mimetype": "text/x-python",
   "name": "python",
   "nbconvert_exporter": "python",
   "pygments_lexer": "ipython2",
   "version": "2.7.6"
  }
 },
 "nbformat": 4,
 "nbformat_minor": 0
}
